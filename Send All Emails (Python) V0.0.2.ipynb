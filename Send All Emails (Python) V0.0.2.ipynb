{
 "cells": [
  {
   "cell_type": "code",
   "execution_count": 0,
   "metadata": {},
   "outputs": [],
   "source": [
    "# Run Docker to Test on Port 26\n",
    "# See https://mailosaur.com/blog/a-guide-to-smtp4dev"
   ]
  },
  {
   "cell_type": "code",
   "execution_count": 0,
   "metadata": {},
   "outputs": [],
   "source": [
    "# -*- coding: utf-8 -*-\n",
    "# Import standard libraries\n",
    "\n",
    "import dataiku\n",
    "import pandas as pd, numpy as np\n",
    "from dataiku import pandasutils as pdu\n",
    "from dataiku.customrecipe import get_recipe_config"
   ]
  },
  {
   "cell_type": "code",
   "execution_count": 0,
   "metadata": {},
   "outputs": [],
   "source": [
    "# Import libraries necessary to send emails via SMTP\n",
    "\n",
    "from email.mime.application import MIMEApplication\n",
    "from email.mime.multipart import MIMEMultipart\n",
    "from email.mime.text import MIMEText\n",
    "import smtplib\n",
    "import os\n",
    "from datetime import datetime\n",
    "import time # added to created delay\n",
    "import random\n",
    "import logging"
   ]
  },
  {
   "cell_type": "code",
   "execution_count": 0,
   "metadata": {},
   "outputs": [],
   "source": [
    "logging.basicConfig(level=logging.INFO, format='%(asctime)s %(levelname)s %(message)s')"
   ]
  },
  {
   "cell_type": "code",
   "execution_count": 0,
   "metadata": {},
   "outputs": [],
   "source": [
    "# Hard coded SMTP settings (for now, as of 2023-08-24)\n",
    "\n",
    "_server = 'localhost'\n",
    "_port = '26'"
   ]
  },
  {
   "cell_type": "code",
   "execution_count": 0,
   "metadata": {},
   "outputs": [],
   "source": [
    "#Function to write a simple email with subject, to, sender, cc\n",
    "\n",
    "def create_simple_mail(subject, to, sender, cc):\n",
    "    mail = MIMEMultipart()\n",
    "    mail['Subject'] = subject\n",
    "    mail['To'] = to\n",
    "    mail['From'] = sender\n",
    "    mail['cc'] = cc\n",
    "    return mail"
   ]
  },
  {
   "cell_type": "code",
   "execution_count": 0,
   "metadata": {},
   "outputs": [],
   "source": [
    "#Function to attach a file to an email as an attachment\n",
    "\n",
    "def attach_file_to_mail(mail,f):\n",
    "    with open(f, \"rb\") as fil:\n",
    "        part = MIMEApplication(fil.read(), Name=os.path.basename(f))\n",
    "        part['Content-Disposition'] = 'attachment; filename=\"%s\"' % os.path.basename(f)\n",
    "        mail.attach(part)\n",
    "    return mail"
   ]
  },
  {
   "cell_type": "code",
   "execution_count": 0,
   "metadata": {},
   "outputs": [],
   "source": [
    "#Function that sends an html email and includes multiple attachments\n",
    "\n",
    "def mail_html(subject, to, sender, cc, html, attachments=None):\n",
    "    rcpt = to.split(\",\") + cc.split(\",\")\n",
    "    mail = create_simple_mail(subject=subject, to=to, sender=sender, cc=cc)\n",
    "    mail.attach(MIMEText(html, 'html'))\n",
    "    if attachments is not None:\n",
    "        for f in attachments:\n",
    "            mail = attach_file_to_mail(mail,f)\n",
    "\n",
    "    smtp_connection = smtplib.SMTP(_server, _port, timeout=120)\n",
    "    with smtp_connection as s:\n",
    "        s.sendmail(sender, rcpt, mail.as_string())"
   ]
  },
  {
   "cell_type": "code",
   "execution_count": 0,
   "metadata": {},
   "outputs": [],
   "source": [
    "#This is a variable containing the html content to be included in the body of the email\n",
    "\n",
    "html_text = \"\"\"\n",
    "<p style='margin:0in;font-size:15px;font-family:\"Calibri\",sans-serif;'><span style='font-size:21px;font-family:\"Arial\",sans-serif;'>Ladder Plan Report&nbsp;</span><span style='font-size:19px;font-family:\"Arial\",sans-serif;'>&nbsp;</span></p>\n",
    "<p style='margin:0in;font-size:15px;font-family:\"Calibri\",sans-serif;'>&nbsp;</p>\n",
    "<p style='margin:0in;font-size:15px;font-family:\"Calibri\",sans-serif;'><span style=\"font-size:16px;\">Good Morning Team,</span><span style='font-size:19px;font-family:\"Arial\",sans-serif;'>&nbsp;</span></p>\n",
    "<p style='margin:0in;font-size:15px;font-family:\"Calibri\",sans-serif;'><span style=\"font-size:16px;\">Attached is today&apos;s Ladder Report.&nbsp;</span></p>\n",
    "<p style='margin:0in;font-size:15px;font-family:\"Calibri\",sans-serif;'><span style=\"font-size:16px;\">&nbsp;</span></p>\n",
    "<p style='margin:0in;font-size:15px;font-family:\"Calibri\",sans-serif;'><u><span style=\"font-size:16px;\">This version includes <strong>Dotcom/Store data</strong></span></u><span style=\"font-size:16px;\">, please continue to provide feedback for improvements.</span></p>\n",
    "<p style='margin:0in;font-size:15px;font-family:\"Calibri\",sans-serif;'><span style=\"font-size:16px;\">&nbsp;</span></p>\n",
    "<p style='margin:0in;font-size:15px;font-family:\"Calibri\",sans-serif;'><strong><span style=\"font-size:16px;\">How can suppliers filter to Ecomm Only Items?</span></strong></p>\n",
    "<p style='margin:0in;font-size:15px;font-family:\"Calibri\",sans-serif;'><span style=\"font-size:16px;\">&nbsp;</span></p>\n",
    "<p style='margin:0in;font-size:15px;font-family:\"Calibri\",sans-serif;'><span style=\"font-size:16px;\">Item Replenishable Indicator (Column IE): filter to repln Y or N items</span></p>\n",
    "<p style='margin:0in;font-size:15px;font-family:\"Calibri\",sans-serif;'><span style=\"font-size:16px;\">Channel Type (Column IQ): filter to WMT.com&nbsp;</span></p>\n",
    "<p style='margin:0in;font-size:15px;font-family:\"Calibri\",sans-serif;'><span style=\"font-size:16px;\">&nbsp;</span></p>\n",
    "<p style='margin:0in;font-size:15px;font-family:\"Calibri\",sans-serif;'><span style=\"font-size:16px;\">&nbsp;</span></p>\n",
    "<p style='margin:0in;font-size:15px;font-family:\"Calibri\",sans-serif;'><span style=\"font-size:16px;\">Criteria for item to show:</span></p>\n",
    "<p style='margin:0in;font-size:15px;font-family:\"Calibri\",sans-serif;'><span style=\"font-size:16px;\">&nbsp;</span></p>\n",
    "<p style='margin:0in;font-size:15px;font-family:\"Calibri\",sans-serif;'><span style=\"font-size:16px;\">Published on the site = True</span></p>\n",
    "<p style='margin:0in;font-size:15px;font-family:\"Calibri\",sans-serif;'><span style=\"font-size:16px;\">Active = True</span></p>\n",
    "<p style='margin:0in;font-size:15px;font-family:\"Calibri\",sans-serif;'><span style=\"font-size:16px;\">Inventory type (own or both)</span></p>\n",
    "<p style='margin:0in;font-size:15px;font-family:\"Calibri\",sans-serif;'><span style=\"font-size:16px;\">Orderable = True</span></p>\n",
    "<p style='margin:0in;font-size:15px;font-family:\"Calibri\",sans-serif;'><span style=\"font-size:16px;\">&nbsp;</span></p>\n",
    "<p style='margin:0in;font-size:15px;font-family:\"Calibri\",sans-serif;'><span style=\"font-size:16px;\">&nbsp;</span></p>\n",
    "<p style='margin:0in;font-size:15px;font-family:\"Calibri\",sans-serif;'><span style='font-size:19px;font-family:\"Arial\",sans-serif;'><a href=\"https://supplieracademy.wal-mart.com/mod/wiki/view.php?id=598\"><strong><span style='font-size:16px;font-family:\"Calibri\",sans-serif;'>Training video Available&nbsp;</span></strong></a></span><strong><span style=\"font-size:16px;\">When you click it, it will prompt you to log into Retail Link and then take you directly to the video.&nbsp;</span></strong></p>\n",
    "<p style='margin:0in;font-size:15px;font-family:\"Calibri\",sans-serif;'><span style=\"font-size:16px;\">&nbsp;</span></p>\n",
    "<p style='margin:0in;font-size:15px;font-family:\"Calibri\",sans-serif;'><strong><span style=\"font-size:16px;\">Problems accessing the video? Follow this path!</span></strong></p>\n",
    "<p style='margin:0in;font-size:15px;font-family:\"Calibri\",sans-serif;'><strong><span style=\"font-size:16px;\">Retail Link &gt; Academy &gt; Walmart &gt; Replenishment &gt; Ladder Planning</span></strong></p>\n",
    "<p style='margin:0in;font-size:15px;font-family:\"Calibri\",sans-serif;'><span style=\"font-size:16px;\">&nbsp;</span></p>\n",
    "<p style='margin:0in;font-size:15px;font-family:\"Calibri\",sans-serif;'><strong><span style=\"font-size:16px;\">Supplier Receipts is what is landing at your facility.&nbsp;</span></strong></p>\n",
    "<p style='margin:0in;font-size:15px;font-family:\"Calibri\",sans-serif;'><span style=\"font-size:16px;\">&nbsp;</span></p>\n",
    "<p style='margin:0in;font-size:15px;font-family:\"Calibri\",sans-serif;'><strong><span style=\"font-size:16px;\">Supplier Flow is what you are flowing to Walmart. This will then project your on hands based on those qty&apos;s.</span></strong></p>\n",
    "<p style='margin:0in;font-size:15px;font-family:\"Calibri\",sans-serif;'><span style=\"font-size:16px;\">&nbsp;</span></p>\n",
    "<p style='margin:0in;font-size:15px;font-family:\"Calibri\",sans-serif;'><span style=\"font-size:16px;\">To use the Supplier ladder plan file, just copy your data into the Ladder plan file on the data drop tab, and on the compile tab hit Build Sheet.</span></p>\n",
    "<p style='margin:0in;font-size:15px;font-family:\"Calibri\",sans-serif;'><span style=\"font-size:16px;\">&nbsp;</span></p>\n",
    "<p style='margin:0in;font-size:15px;font-family:\"Calibri\",sans-serif;'><span style=\"font-size:16px;\">2. If you are not familiar with this document please send me an email. It is imperative that each one of my suppliers understands this document. As it can help you prepare your orders, and prepare for upcoming events.</span></p>\n",
    "<p style='margin:0in;font-size:15px;font-family:\"Calibri\",sans-serif;'><span style=\"font-size:16px;\">&nbsp;</span></p>\n",
    "<p style='margin:0in;font-size:15px;font-family:\"Calibri\",sans-serif;'><span style=\"font-size:16px;\">3. This should be reviewed each time you receive it for changes to the forecast, and you should ensure you are aligned to the forecast<strong>. If you are not aligned reach out to me.</strong></span></p>\n",
    "<p style='margin:0in;font-size:15px;font-family:\"Calibri\",sans-serif;'><span style=\"font-size:16px;\">&nbsp;</span></p>\n",
    "<p style='margin:0in;font-size:15px;font-family:\"Calibri\",sans-serif;'><span style=\"font-size:16px;\">4. Should you have any other questions, please reach out to your RM.</span></p>\n",
    "<p style='margin:0in;font-size:15px;font-family:\"Calibri\",sans-serif;'><span style=\"font-size:16px;\">&nbsp;</span></p>\n",
    "<p style='margin:0in;font-size:15px;font-family:\"Calibri\",sans-serif;'><span style=\"font-size:16px;\">&nbsp;</span></p>\n",
    "<p style='margin:0in;font-size:15px;font-family:\"Calibri\",sans-serif;'><span style=\"font-size:16px;\">Thank you,</span></p>\n",
    "<p style='margin:0in;font-size:15px;font-family:\"Calibri\",sans-serif;'><span style=\"font-size:16px;\">Walmart Replenishment</span></p>\n",
    "<p style='margin:0in;font-size:15px;font-family:\"Calibri\",sans-serif;'><span style='font-size:19px;font-family:\"Arial\",sans-serif;'>&nbsp;</span></p>\n",
    "<p style='margin:0in;font-size:15px;font-family:\"Calibri\",sans-serif;'><em><span style=\"font-size:13px;\">Disclaimer: The information transmitted is intended only for the person or entity to which it is addressed and may contain proprietary, business-confidential and/or privileged material. If you are not the intended recipient of this message, you are hereby notified that any use, review, retransmission, dissemination, distribution, reproduction or any action taken in reliance upon this message is prohibited. If you received this in error, please contact the sender and delete the material from any computer.</span></em></p>\n",
    "\"\"\""
   ]
  },
  {
   "cell_type": "code",
   "execution_count": 0,
   "metadata": {},
   "outputs": [],
   "source": [
    "# Read dataset to be used to create the email distribution list\n",
    "\n",
    "# Ensure that the filename in the dataiku.Dataset() function contains\n",
    "# the unique \"Vendor_nbr\", \"to\", \"sender\", and \"cc\" columns\n",
    "\n",
    "dist_list_dss = dataiku.Dataset(\"dist_list\")\n",
    "dist_list = dist_list_dss.get_dataframe()"
   ]
  },
  {
   "cell_type": "code",
   "execution_count": 0,
   "metadata": {},
   "outputs": [],
   "source": [
    "# Read full data dump\n",
    "\n",
    "# Ensure that this dataset contains the \"Vendor_nbr\" column, which\n",
    "# will be used to filter contents to be sent to each Vendor on the dist_list\n",
    "\n",
    "dataset = dataiku.Dataset(\"data_dump_all\")\n",
    "df = dataset.get_dataframe()"
   ]
  },
  {
   "cell_type": "code",
   "execution_count": 0,
   "metadata": {},
   "outputs": [],
   "source": [
    "# Static file attachments.  Hard coded for now, as of 2023-08-24\n",
    "\n",
    "folder = dataiku.Folder(\"auipQAwL\")\n",
    "file1 = folder.get_path() + '/file_example_XLS_50.xls'\n",
    "#file2 = folder.get_path() + '/<insertfile2name.'"
   ]
  },
  {
   "cell_type": "code",
   "execution_count": 0,
   "metadata": {},
   "outputs": [],
   "source": [
    "# Establish schema for log of sent emails\n",
    "\n",
    "output = dataiku.Dataset(\"dist_list_sent\")\n",
    "output_schema = [{'name': 'Vendor_nbr', 'type': 'string'},\n",
    "                 {'name': 'sendmail_status', 'type': 'string'},\n",
    "                 {'name': 'sendmail_error', 'type': 'string'}]\n",
    "output.write_schema(output_schema)"
   ]
  },
  {
   "cell_type": "code",
   "execution_count": 0,
   "metadata": {},
   "outputs": [],
   "source": [
    "# Loops through the dist_list for each unique \"Vendor_nbr_8\"\n",
    "# - Creates a Subject line matching Vendor Name\n",
    "# - Sets \"to\" email distribution list\n",
    "# - Sets \"sender\" email (must equal SMTP server)\n",
    "# - Sets \"cc\" email list (must equal SMTP server)\n",
    "# - Filters the \"full data dump\" by vendor, attaches as CSV\n",
    "# - Attaches static file1 and file2\n",
    "# - Executes the mail_html function which actually sends the email/attachments\n",
    "\n",
    "with output.get_writer() as writer:\n",
    "    j = 0\n",
    "    success = 0\n",
    "    fail = 0\n",
    "    try:\n",
    "        for i in range(len(dist_list)):\n",
    "            d = {}\n",
    "            if i == 0: # Start a stopwatch the very first pass\n",
    "                start = datetime.now()\n",
    "            try:\n",
    "                vn = str(dist_list['Vendor_nbr'][i])\n",
    "                subject = 'Supplier ' + dist_list['Vndr_name'][i] + ' Vendor# ' + vn\n",
    "                to = dist_list['SupplierContact'][i]\n",
    "                sender = dist_list['RM_EMAIL'][i]\n",
    "                cc = dist_list['RM_CC'][i]\n",
    "                attach1 = df.loc[df['Vendor_nbr'] == dist_list['Vendor_nbr'][i]]\n",
    "                attach1.to_csv('data_dump.csv', index = False)\n",
    "                logging.info(f'Sending to {to}, Vendor {vn}')\n",
    "                mail_html(subject=subject,\n",
    "                          to=to,\n",
    "                          sender=sender,\n",
    "                          cc=cc,\n",
    "                          html=html_text,\n",
    "                          attachments=['data_dump.csv',file1])#,file2])\n",
    "                end = datetime.now() #updates the stopwatch every pass\n",
    "                rtime = random.randint(0, 4)\n",
    "                time.sleep(rtime) #used to delay seconds between each email\n",
    "                d['Vendor_nbr'] = str(dist_list['Vendor_nbr'][i])\n",
    "                d['sendmail_status'] = 'SUCCESS'\n",
    "                #print(d)\n",
    "                success += 1\n",
    "                if writer:\n",
    "                    writer.write_row_dict(d)\n",
    "            except Exception as e:\n",
    "                logging.exception(\"Send failed\")\n",
    "                fail += 1\n",
    "                d['Vendor_nbr'] = str(dist_list['Vendor_nbr'][i])\n",
    "                d['sendmail_status'] = 'FAILED'\n",
    "                d['sendmail_error'] = str(e)\n",
    "                if writer:\n",
    "                    writer.write_row_dict(d)\n",
    "                end = datetime.now()\n",
    "            j += 1\n",
    "            if j % 10 == 0:\n",
    "                logging.info(f'Sent {j} emails ({success} success {fail} fail)')\n",
    "    except RuntimeError as runtime_error:\n",
    "        logging.info(f'Exception {runtime_error}')\n",
    "        end = datetime.now()\n",
    "    elapsed = end - start\n",
    "    logging.info(f'Sent {j} emails ({success} success {fail} fail)')\n",
    "    logging.info(f'Time Elapsed: {elapsed}')"
   ]
  }
 ],
 "metadata": {
  "associatedRecipe": "compute_69TsvFUT",
  "createdOn": 1694556611832,
  "creationTag": {
   "extendedProperties": {},
   "lastModifiedBy": {
    "login": "admin"
   },
   "lastModifiedOn": 1694556611832,
   "versionNumber": 0
  },
  "creator": "admin",
  "customFields": {},
  "dkuGit": {
   "lastInteraction": 0
  },
  "hide_input": false,
  "kernelspec": {
   "display_name": "Python 3",
   "language": "python",
   "name": "python3"
  },
  "language_info": {
   "codemirror_mode": {
    "name": "ipython",
    "version": 3
   },
   "file_extension": ".py",
   "mimetype": "text/x-python",
   "name": "python",
   "nbconvert_exporter": "python",
   "pygments_lexer": "ipython3",
   "version": "3.7.13"
  },
  "modifiedBy": "admin",
  "tags": [
   "recipe-editor"
  ]
 },
 "nbformat": 4,
 "nbformat_minor": 1
}
